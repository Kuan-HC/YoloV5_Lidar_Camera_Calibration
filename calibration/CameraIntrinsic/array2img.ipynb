{
 "cells": [
  {
   "cell_type": "code",
   "execution_count": 1,
   "id": "0e25e2bf",
   "metadata": {},
   "outputs": [],
   "source": [
    "import cv2\n",
    "import numpy as np\n",
    "import glob\n",
    "from matplotlib import pyplot as plt\n",
    "from PIL import Image"
   ]
  },
  {
   "cell_type": "code",
   "execution_count": null,
   "id": "85132b55",
   "metadata": {
    "scrolled": true
   },
   "outputs": [],
   "source": [
    "height = 10\n",
    "weight = 20\n",
    "channel = 3\n",
    "test = np.zeros((height, weight, channel), dtype=np.uint8)"
   ]
  },
  {
   "cell_type": "code",
   "execution_count": null,
   "id": "86a7d58d",
   "metadata": {},
   "outputs": [],
   "source": [
    "test[0][0][0] = 255\n",
    "test[5][10][0] = 255"
   ]
  },
  {
   "cell_type": "code",
   "execution_count": null,
   "id": "654bcef3",
   "metadata": {},
   "outputs": [],
   "source": [
    "cv2_img = cv2.cvtColor(test,cv2.COLOR_RGB2BGR) \n",
    "cv2.imshow(\"img\", cv2_img)\n",
    "cv2.waitKey(0)\n"
   ]
  },
  {
   "cell_type": "code",
   "execution_count": null,
   "id": "4b11a7ad",
   "metadata": {},
   "outputs": [],
   "source": [
    "cv2.destroyAllWindows()"
   ]
  },
  {
   "cell_type": "code",
   "execution_count": 3,
   "id": "9bffc340",
   "metadata": {},
   "outputs": [
    {
     "name": "stdout",
     "output_type": "stream",
     "text": [
      "[[0. 0.]\n",
      " [0. 0.]\n",
      " [0. 0.]\n",
      " [0. 0.]\n",
      " [0. 0.]]\n"
     ]
    }
   ],
   "source": [
    "dist = np.zeros((5, 2), dtype=np.float32)\n",
    "print(dist)"
   ]
  },
  {
   "cell_type": "code",
   "execution_count": null,
   "id": "f3fe1afb",
   "metadata": {},
   "outputs": [],
   "source": []
  }
 ],
 "metadata": {
  "kernelspec": {
   "display_name": "Python 3 (ipykernel)",
   "language": "python",
   "name": "python3"
  },
  "language_info": {
   "codemirror_mode": {
    "name": "ipython",
    "version": 3
   },
   "file_extension": ".py",
   "mimetype": "text/x-python",
   "name": "python",
   "nbconvert_exporter": "python",
   "pygments_lexer": "ipython3",
   "version": "3.8.0"
  }
 },
 "nbformat": 4,
 "nbformat_minor": 5
}
