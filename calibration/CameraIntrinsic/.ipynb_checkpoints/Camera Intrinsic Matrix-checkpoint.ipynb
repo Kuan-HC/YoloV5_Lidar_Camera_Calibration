{
 "cells": [
  {
   "cell_type": "code",
   "execution_count": 5,
   "id": "500ca783",
   "metadata": {},
   "outputs": [],
   "source": [
    "#!/usr/bin/env python\n",
    "\n",
    "import cv2\n",
    "import numpy as np\n",
    "import glob\n",
    "from matplotlib import pyplot as plt"
   ]
  },
  {
   "cell_type": "code",
   "execution_count": 6,
   "id": "12593792",
   "metadata": {},
   "outputs": [],
   "source": [
    "# Defining the dimensions of checkerboard\n",
    "CHECKERBOARD = (6,11)\n",
    "criteria = (cv2.TERM_CRITERIA_EPS + cv2.TERM_CRITERIA_MAX_ITER, 80, 0.001)\n",
    "# Creating vector to store vectors of 3D points for each checkerboard image\n",
    "objpoints = []\n",
    "# Creating vector to store vectors of 2D points for each checkerboard image\n",
    "imgpoints = [] \n",
    "\n",
    "# Defining the world coordinates for 3D points\n",
    "objp = np.zeros((1, CHECKERBOARD[0]*CHECKERBOARD[1], 3), np.float32)\n",
    "objp[0,:,:2] = np.mgrid[0:CHECKERBOARD[0], 0:CHECKERBOARD[1]].T.reshape(-1, 2)\n",
    "prev_img_shape = None\n"
   ]
  },
  {
   "cell_type": "code",
   "execution_count": 7,
   "id": "370c620f",
   "metadata": {},
   "outputs": [],
   "source": [
    "# Extracting path of individual image stored in a given directory\n",
    "images = glob.glob('./data/*.bmp')"
   ]
  },
  {
   "cell_type": "code",
   "execution_count": 8,
   "id": "2ef82221",
   "metadata": {},
   "outputs": [],
   "source": [
    "#Find Corners\n",
    "cv2.namedWindow('Coners', cv2.WINDOW_NORMAL)\n",
    "for fname in images:\n",
    "    img = cv2.imread(fname)\n",
    "    gray = cv2.cvtColor(img,cv2.COLOR_BGR2GRAY)\n",
    "    \n",
    "    # If desired number of corners are found in the image then ret = true\n",
    "    ret, corners = cv2.findChessboardCorners(gray, CHECKERBOARD, None)    \n",
    "    \n",
    "    \"\"\"\n",
    "    If desired number of corner are detected,refine the pixel coordinates and display the image\n",
    "    \"\"\"\n",
    "    \n",
    "    if ret == True:\n",
    "        corners_img = img.copy()\n",
    "        objpoints.append(objp)\n",
    "        # refining pixel coordinates for given 2d points.\n",
    "        corners2 = cv2.cornerSubPix(gray,corners,(11,11),(-1,-1),criteria)\n",
    "        \n",
    "        imgpoints.append(corners2)\n",
    "\n",
    "        # Draw and display the corners\n",
    "        cv2.drawChessboardCorners(corners_img, CHECKERBOARD, corners2,ret)\n",
    "        \n",
    "        cv2.imshow('Coners',corners_img)\n",
    "        cv2.waitKey(1000)     \n",
    "    else:\n",
    "        print(\"name cand find coners\".format(fname))\n",
    "\n",
    "cv2.destroyAllWindows()\n"
   ]
  },
  {
   "cell_type": "code",
   "execution_count": 9,
   "id": "df9a3d10",
   "metadata": {},
   "outputs": [
    {
     "name": "stdout",
     "output_type": "stream",
     "text": [
      "mtx \n",
      " [[867.24235271   0.         625.41205666]\n",
      " [  0.         866.72994575 527.89263148]\n",
      " [  0.           0.           1.        ]]\n",
      "newcameramtx \n",
      " [[845.59796143   0.         624.8150099 ]\n",
      " [  0.         844.83795166 526.4748114 ]\n",
      " [  0.           0.           1.        ]]\n",
      "dist \n",
      " [[-0.09806014  0.11014382 -0.00083794 -0.00017579 -0.02188114]]\n"
     ]
    }
   ],
   "source": [
    " # Calibration\n",
    "ret, mtx, dist, rvecs, tvecs = cv2.calibrateCamera(objpoints, imgpoints, gray.shape[::-1], None, None)\n",
    "\n",
    "img = cv2.imread('./data/1.bmp')\n",
    "h,  w = img.shape[:2]\n",
    "newcameramtx, roi = cv2.getOptimalNewCameraMatrix(mtx, dist, (w,h), 1, (w,h))\n",
    "print(\"mtx \\n\", mtx)\n",
    "np.savetxt(r'./mtx.txt',mtx, fmt='%.8f')\n",
    "print(\"newcameramtx \\n\",newcameramtx)\n",
    "np.savetxt(r'./newcameramtx.txt',newcameramtx, fmt='%.8f')\n",
    "print(\"dist \\n\", dist)\n",
    "np.savetxt(r'./dist.txt',dist, fmt='%.8f')"
   ]
  },
  {
   "cell_type": "code",
   "execution_count": 10,
   "id": "74c755d6",
   "metadata": {},
   "outputs": [],
   "source": [
    "for fname in images:\n",
    "    img = cv2.imread(fname)\n",
    "    undistort_image = cv2.undistort(img, mtx, dist, None, newcameramtx)\n",
    "    \n",
    "    # crop the image\n",
    "    x, y, w, h = roi\n",
    "    undistort_image = undistort_image[y:y + h, x:x + w]\n",
    "    cv2.imshow('Undistort',undistort_image)\n",
    "    cv2.waitKey(1000) \n",
    "    \n",
    "cv2.destroyAllWindows()"
   ]
  },
  {
   "cell_type": "code",
   "execution_count": 11,
   "id": "dd1c148c",
   "metadata": {},
   "outputs": [],
   "source": [
    "#Save calibrated image\n",
    "img = cv2.imread(\"./data/1.bmp\")\n",
    "                 \n",
    "undistort_image = cv2.undistort(img, mtx, dist, None, newcameramtx)\n",
    "\n",
    "img_add = cv2.addWeighted(img,0.1,undistort_image,0.9,0)\n",
    "\n",
    "cv2.imshow('Undistort',img_add)\n",
    "cv2.waitKey(1000) \n",
    "    \n",
    "cv2.destroyAllWindows()"
   ]
  },
  {
   "cell_type": "markdown",
   "id": "ad8660ea",
   "metadata": {},
   "source": [
    "## Thermo 測試，顏色相反"
   ]
  },
  {
   "cell_type": "code",
   "execution_count": 4,
   "id": "3e583cb6",
   "metadata": {},
   "outputs": [
    {
     "ename": "NameError",
     "evalue": "name 'objpoints' is not defined",
     "output_type": "error",
     "traceback": [
      "\u001b[0;31m---------------------------------------------------------------------------\u001b[0m",
      "\u001b[0;31mNameError\u001b[0m                                 Traceback (most recent call last)",
      "Cell \u001b[0;32mIn [4], line 20\u001b[0m\n\u001b[1;32m     18\u001b[0m \u001b[38;5;28;01mif\u001b[39;00m ret \u001b[38;5;241m==\u001b[39m \u001b[38;5;28;01mTrue\u001b[39;00m:\n\u001b[1;32m     19\u001b[0m     corners_img \u001b[38;5;241m=\u001b[39m img\u001b[38;5;241m.\u001b[39mcopy()\n\u001b[0;32m---> 20\u001b[0m     objpoints\u001b[38;5;241m.\u001b[39mappend(objp)\n\u001b[1;32m     21\u001b[0m     \u001b[38;5;66;03m# refining pixel coordinates for given 2d points.\u001b[39;00m\n\u001b[1;32m     22\u001b[0m     corners2 \u001b[38;5;241m=\u001b[39m cv2\u001b[38;5;241m.\u001b[39mcornerSubPix(invert,corners,(\u001b[38;5;241m11\u001b[39m,\u001b[38;5;241m11\u001b[39m),(\u001b[38;5;241m-\u001b[39m\u001b[38;5;241m1\u001b[39m,\u001b[38;5;241m-\u001b[39m\u001b[38;5;241m1\u001b[39m),criteria)\n",
      "\u001b[0;31mNameError\u001b[0m: name 'objpoints' is not defined"
     ]
    }
   ],
   "source": [
    "# 適用於thermo，如果要相反的顏色\n",
    "CHECKERBOARD = (6,6)\n",
    "img = cv2.imread(\"A3.jpg\")\n",
    "cv2.waitKey(1000) \n",
    "\n",
    "gray = cv2.cvtColor(img,cv2.COLOR_BGR2GRAY)\n",
    "invert = cv2.bitwise_not(gray)\n",
    "    \n",
    "# If desired number of corners are found in the image then ret = true\n",
    "ret, corners = cv2.findChessboardCorners(invert, CHECKERBOARD, None)\n",
    "cv2.imshow(\"invert color\", invert)\n",
    "cv2.waitKey(1000) "
   ]
  },
  {
   "cell_type": "code",
   "execution_count": null,
   "id": "b8425719",
   "metadata": {},
   "outputs": [],
   "source": []
  }
 ],
 "metadata": {
  "kernelspec": {
   "display_name": "Python 3 (ipykernel)",
   "language": "python",
   "name": "python3"
  },
  "language_info": {
   "codemirror_mode": {
    "name": "ipython",
    "version": 3
   },
   "file_extension": ".py",
   "mimetype": "text/x-python",
   "name": "python",
   "nbconvert_exporter": "python",
   "pygments_lexer": "ipython3",
   "version": "3.8.0"
  }
 },
 "nbformat": 4,
 "nbformat_minor": 5
}
